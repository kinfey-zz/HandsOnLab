{
 "cells": [
  {
   "cell_type": "markdown",
   "source": [
    "# **01.关于数据的整理** #\n",
    "\n",
    "机器学习以数据为主导，当做数据科学的工作的时候，我们第一步需要的是整理数据， 本次动手实验会结合开源，结合.NET 的数据整理工具进行。"
   ],
   "metadata": {}
  },
  {
   "cell_type": "markdown",
   "source": [
    "## **一 .NumSharp** ##\n",
    "\n",
    "在Python我们经常用Numpy做数据处理\n",
    "\n",
    "**什么是Numpy?**\n",
    "\n",
    "NumPy(Numerical Python) 是 Python 语言的一个扩展程序库，支持大量的维度数组与矩阵运算，此外也针对数组运算提供大量的数学函数库。\n",
    "\n",
    "NumPy（Numeric Python）提供了许多高级的数值编程工具，如：矩阵数据类型、矢量处理，以及精密的运算库。专为进行严格的数字处理而产生。多为很多大型金融公司使用\n",
    "\n",
    "在.NET Core中 ，有很好的原生第三方库 NumSharp 。 https://github.com/SciSharp/NumSharp\n",
    "\n",
    "\n",
    "\n",
    "\n"
   ],
   "metadata": {}
  },
  {
   "cell_type": "code",
   "execution_count": null,
   "source": [
    "#r \"nuget: NumSharp\""
   ],
   "outputs": [
    {
     "output_type": "display_data",
     "data": {
      "text/html": [
       "<div><div></div><div><strong>Installed Packages</strong><ul><li><span>NumSharp, 0.30.0</span></li></ul></div><div></div></div>"
      ]
     },
     "metadata": {}
    }
   ],
   "metadata": {
    "dotnet_interactive": {
     "language": "csharp"
    }
   }
  },
  {
   "cell_type": "code",
   "execution_count": null,
   "source": [
    "using NumSharp;"
   ],
   "outputs": [],
   "metadata": {
    "dotnet_interactive": {
     "language": "csharp"
    }
   }
  },
  {
   "cell_type": "code",
   "execution_count": null,
   "source": [
    "\n",
    "var study_score_list = new float[]{50.0f, 50.0f, 47.0f ,97.0f ,49.0f ,3.0f ,53.0f ,42.0f ,26.0f ,74.0f ,82.0f ,62.0f ,37.0f ,15.0f ,70.0f ,27.0f ,36.0f ,35.0f ,48.0f ,52.0f ,63.0f ,64.0f };\n",
    "var numpy_array = np.array(study_score_list);"
   ],
   "outputs": [],
   "metadata": {
    "dotnet_interactive": {
     "language": "csharp"
    }
   }
  },
  {
   "cell_type": "code",
   "execution_count": null,
   "source": [
    "foreach(var item in numpy_array)\n",
    "{\n",
    "    Console.WriteLine(item.ToString());\n",
    "}"
   ],
   "outputs": [
    {
     "output_type": "display_data",
     "data": {
      "text/plain": [
       "50\n"
      ]
     },
     "metadata": {}
    },
    {
     "output_type": "display_data",
     "data": {
      "text/plain": [
       "50\n"
      ]
     },
     "metadata": {}
    },
    {
     "output_type": "display_data",
     "data": {
      "text/plain": [
       "47\n"
      ]
     },
     "metadata": {}
    },
    {
     "output_type": "display_data",
     "data": {
      "text/plain": [
       "97\n"
      ]
     },
     "metadata": {}
    },
    {
     "output_type": "display_data",
     "data": {
      "text/plain": [
       "49\n"
      ]
     },
     "metadata": {}
    },
    {
     "output_type": "display_data",
     "data": {
      "text/plain": [
       "3\n"
      ]
     },
     "metadata": {}
    },
    {
     "output_type": "display_data",
     "data": {
      "text/plain": [
       "53\n"
      ]
     },
     "metadata": {}
    },
    {
     "output_type": "display_data",
     "data": {
      "text/plain": [
       "42\n"
      ]
     },
     "metadata": {}
    },
    {
     "output_type": "display_data",
     "data": {
      "text/plain": [
       "26\n"
      ]
     },
     "metadata": {}
    },
    {
     "output_type": "display_data",
     "data": {
      "text/plain": [
       "74\n"
      ]
     },
     "metadata": {}
    },
    {
     "output_type": "display_data",
     "data": {
      "text/plain": [
       "82\n"
      ]
     },
     "metadata": {}
    },
    {
     "output_type": "display_data",
     "data": {
      "text/plain": [
       "62\n"
      ]
     },
     "metadata": {}
    },
    {
     "output_type": "display_data",
     "data": {
      "text/plain": [
       "37\n"
      ]
     },
     "metadata": {}
    },
    {
     "output_type": "display_data",
     "data": {
      "text/plain": [
       "15\n"
      ]
     },
     "metadata": {}
    },
    {
     "output_type": "display_data",
     "data": {
      "text/plain": [
       "70\n"
      ]
     },
     "metadata": {}
    },
    {
     "output_type": "display_data",
     "data": {
      "text/plain": [
       "27\n"
      ]
     },
     "metadata": {}
    },
    {
     "output_type": "display_data",
     "data": {
      "text/plain": [
       "36\n"
      ]
     },
     "metadata": {}
    },
    {
     "output_type": "display_data",
     "data": {
      "text/plain": [
       "35\n"
      ]
     },
     "metadata": {}
    },
    {
     "output_type": "display_data",
     "data": {
      "text/plain": [
       "48\n"
      ]
     },
     "metadata": {}
    },
    {
     "output_type": "display_data",
     "data": {
      "text/plain": [
       "52\n"
      ]
     },
     "metadata": {}
    },
    {
     "output_type": "display_data",
     "data": {
      "text/plain": [
       "63\n"
      ]
     },
     "metadata": {}
    },
    {
     "output_type": "display_data",
     "data": {
      "text/plain": [
       "64\n"
      ]
     },
     "metadata": {}
    }
   ],
   "metadata": {
    "dotnet_interactive": {
     "language": "csharp"
    }
   }
  },
  {
   "cell_type": "code",
   "execution_count": null,
   "source": [
    "numpy_array.shape"
   ],
   "outputs": [
    {
     "output_type": "display_data",
     "data": {
      "text/html": [
       "<table><thead><tr><th><i>index</i></th><th>value</th></tr></thead><tbody><tr><td>0</td><td><div class=\"dni-plaintext\">22</div></td></tr></tbody></table>"
      ]
     },
     "metadata": {}
    }
   ],
   "metadata": {
    "dotnet_interactive": {
     "language": "csharp"
    }
   }
  },
  {
   "cell_type": "code",
   "execution_count": null,
   "source": [
    "numpy_array[0]"
   ],
   "outputs": [
    {
     "output_type": "display_data",
     "data": {
      "text/html": [
       "<table><thead><tr><th><i>index</i></th><th>value</th></tr></thead><tbody><tr><td>0</td><td><div class=\"dni-plaintext\">50</div></td></tr></tbody></table>"
      ]
     },
     "metadata": {}
    }
   ],
   "metadata": {
    "dotnet_interactive": {
     "language": "csharp"
    }
   }
  },
  {
   "cell_type": "code",
   "execution_count": null,
   "source": [
    "numpy_array.mean()"
   ],
   "outputs": [
    {
     "output_type": "display_data",
     "data": {
      "text/html": [
       "<table><thead><tr><th><i>index</i></th><th>value</th></tr></thead><tbody><tr><td>0</td><td><div class=\"dni-plaintext\">49.18182</div></td></tr></tbody></table>"
      ]
     },
     "metadata": {}
    }
   ],
   "metadata": {
    "dotnet_interactive": {
     "language": "csharp"
    }
   }
  },
  {
   "cell_type": "code",
   "execution_count": null,
   "source": [
    "float[,] study_datas_array = new float[2,22]{{10.0f ,11.5f ,9.0f ,16.0f , 9.25f , 1.0f ,11.5f ,9.0f ,8.5f ,14.5f ,15.5f,\n",
    "    13.75f ,9.0f ,8.0f, 15.5f ,8.0f , 9.0f , 6.0f ,10.0f ,12.0f ,12.5f,12.0f },{50.0f, 50.0f, 47.0f ,97.0f ,49.0f ,3.0f ,53.0f ,42.0f ,26.0f ,74.0f ,82.0f ,62.0f ,37.0f ,15.0f ,70.0f ,27.0f ,36.0f ,35.0f ,48.0f ,52.0f ,63.0f ,64.0f}};\n"
   ],
   "outputs": [],
   "metadata": {
    "dotnet_interactive": {
     "language": "csharp"
    }
   }
  },
  {
   "cell_type": "code",
   "execution_count": null,
   "source": [
    "\n",
    "NDArray study_datas_numpy = np.array(study_datas_array);"
   ],
   "outputs": [],
   "metadata": {
    "dotnet_interactive": {
     "language": "csharp"
    }
   }
  },
  {
   "cell_type": "code",
   "execution_count": null,
   "source": [
    "study_datas_numpy.shape"
   ],
   "outputs": [
    {
     "output_type": "display_data",
     "data": {
      "text/html": [
       "<table><thead><tr><th><i>index</i></th><th>value</th></tr></thead><tbody><tr><td>0</td><td><div class=\"dni-plaintext\">2</div></td></tr><tr><td>1</td><td><div class=\"dni-plaintext\">22</div></td></tr></tbody></table>"
      ]
     },
     "metadata": {}
    }
   ],
   "metadata": {
    "dotnet_interactive": {
     "language": "csharp"
    }
   }
  },
  {
   "cell_type": "code",
   "execution_count": null,
   "source": [
    "study_datas_numpy[0][0]"
   ],
   "outputs": [
    {
     "output_type": "display_data",
     "data": {
      "text/html": [
       "<table><thead><tr><th><i>index</i></th><th>value</th></tr></thead><tbody><tr><td>0</td><td><div class=\"dni-plaintext\">10</div></td></tr></tbody></table>"
      ]
     },
     "metadata": {}
    }
   ],
   "metadata": {
    "dotnet_interactive": {
     "language": "csharp"
    }
   }
  },
  {
   "cell_type": "code",
   "execution_count": null,
   "source": [
    "\n",
    "var avg_study = study_datas_numpy[0].mean();\n",
    "var avg_grade = study_datas_numpy[1].mean();\n",
    "\n"
   ],
   "outputs": [],
   "metadata": {
    "dotnet_interactive": {
     "language": "csharp"
    }
   }
  },
  {
   "cell_type": "code",
   "execution_count": null,
   "source": [
    "avg_study"
   ],
   "outputs": [
    {
     "output_type": "display_data",
     "data": {
      "text/html": [
       "<table><thead><tr><th><i>index</i></th><th>value</th></tr></thead><tbody><tr><td>0</td><td><div class=\"dni-plaintext\">10.522727</div></td></tr></tbody></table>"
      ]
     },
     "metadata": {}
    }
   ],
   "metadata": {
    "dotnet_interactive": {
     "language": "csharp"
    }
   }
  },
  {
   "cell_type": "code",
   "execution_count": null,
   "source": [
    "avg_grade"
   ],
   "outputs": [
    {
     "output_type": "display_data",
     "data": {
      "text/html": [
       "<table><thead><tr><th><i>index</i></th><th>value</th></tr></thead><tbody><tr><td>0</td><td><div class=\"dni-plaintext\">49.18182</div></td></tr></tbody></table>"
      ]
     },
     "metadata": {}
    }
   ],
   "metadata": {
    "dotnet_interactive": {
     "language": "csharp"
    }
   }
  },
  {
   "cell_type": "markdown",
   "source": [
    "## **2. 通过.NET Core中的DataFrame对数据进行整理** ##\n",
    "\n",
    "再来看看Python , 当我们整理数据过程中，除了数据一些格式转换外，需要检查数据，找出是否有空值，有什么数据特征，一般用pandas解决。\n",
    "\n",
    "pandas 是基于NumPy 的一种工具，该工具是为解决数据分析任务而创建的。Pandas 纳入了大量库和一些标准的数据模型，提供了高效地操作大型数据集所需的工具。pandas提供了大量能使我们快速便捷地处理数据的函数和方法。\n",
    "\n",
    "在.NET Core 中有原生对应的方案\n",
    "\n",
    ".NET 的 DataFrame 类型，使数据探索变得容易。"
   ],
   "metadata": {}
  },
  {
   "cell_type": "code",
   "execution_count": null,
   "source": [
    "#r \"nuget:Microsoft.Data.Analysis\""
   ],
   "outputs": [
    {
     "output_type": "display_data",
     "data": {
      "text/html": [
       "<div><div></div><div><strong>Installed Packages</strong><ul><li><span>apache.arrow, 2.0.0</span></li><li><span>Microsoft.Data.Analysis, 0.18.0</span></li><li><span>microsoft.ml.dataview, 1.6.0</span></li></ul></div><div></div></div>"
      ]
     },
     "metadata": {}
    },
    {
     "output_type": "display_data",
     "data": {
      "text/markdown": [
       "Loading extensions from `Microsoft.Data.Analysis.Interactive.dll`"
      ]
     },
     "metadata": {}
    }
   ],
   "metadata": {
    "dotnet_interactive": {
     "language": "csharp"
    }
   }
  },
  {
   "cell_type": "code",
   "execution_count": null,
   "source": [
    "using Microsoft.Data.Analysis;"
   ],
   "outputs": [],
   "metadata": {
    "dotnet_interactive": {
     "language": "csharp"
    }
   }
  },
  {
   "cell_type": "code",
   "execution_count": null,
   "source": [
    "StringDataFrameColumn nameList = new StringDataFrameColumn(\"Strings\");\n",
    "PrimitiveDataFrameColumn<float> timelist = new PrimitiveDataFrameColumn<float>(\"StudyTime\");\n",
    "PrimitiveDataFrameColumn<float> scorelist = new PrimitiveDataFrameColumn<float>(\"StudyScore\");"
   ],
   "outputs": [],
   "metadata": {
    "dotnet_interactive": {
     "language": "csharp"
    }
   }
  },
  {
   "cell_type": "code",
   "execution_count": null,
   "source": [
    "\n",
    "var student_list = new string[]{\"Dan\", \"Joann\", \"Pedro\", \"Rosie\", \"Ethan\", \"Vicky\", \"Frederic\", \"Jimmie\", \"Rhonda\", \"Giovanni\", \"Francesca\", \"Rajab\", \"Naiyana\", \"Kian\", \"Jenny\",\"Jakeem\",\"Helena\",\"Ismat\",\"Anila\",\"Skye\",\"Daniel\",\"Aisha\" };\n"
   ],
   "outputs": [],
   "metadata": {
    "dotnet_interactive": {
     "language": "csharp"
    }
   }
  },
  {
   "cell_type": "code",
   "execution_count": null,
   "source": [
    "student_list.Length"
   ],
   "outputs": [
    {
     "output_type": "display_data",
     "data": {
      "text/html": [
       "<div class=\"dni-plaintext\">22</div>"
      ]
     },
     "metadata": {}
    }
   ],
   "metadata": {
    "dotnet_interactive": {
     "language": "csharp"
    }
   }
  },
  {
   "cell_type": "code",
   "execution_count": null,
   "source": [
    "for(var i = 0 ; i< student_list.Length ;i++)\n",
    "{\n",
    "    nameList.Append(student_list[i]);\n",
    "}"
   ],
   "outputs": [],
   "metadata": {
    "dotnet_interactive": {
     "language": "csharp"
    }
   }
  },
  {
   "cell_type": "code",
   "execution_count": null,
   "source": [
    "for(var i = 0 ; i< study_datas_numpy.shape[1] ;i++)\n",
    "{\n",
    "   timelist.Append(study_datas_numpy[0][i]);\n",
    "   scorelist.Append(study_datas_numpy[1][i]);\n",
    "}"
   ],
   "outputs": [],
   "metadata": {
    "dotnet_interactive": {
     "language": "csharp"
    }
   }
  },
  {
   "cell_type": "code",
   "execution_count": null,
   "source": [
    "nameList"
   ],
   "outputs": [
    {
     "output_type": "display_data",
     "data": {
      "text/html": [
       "<table><thead><tr><th><i>index</i></th><th>value</th></tr></thead><tbody><tr><td>0</td><td>Dan</td></tr><tr><td>1</td><td>Joann</td></tr><tr><td>2</td><td>Pedro</td></tr><tr><td>3</td><td>Rosie</td></tr><tr><td>4</td><td>Ethan</td></tr><tr><td>5</td><td>Vicky</td></tr><tr><td>6</td><td>Frederic</td></tr><tr><td>7</td><td>Jimmie</td></tr><tr><td>8</td><td>Rhonda</td></tr><tr><td>9</td><td>Giovanni</td></tr><tr><td>10</td><td>Francesca</td></tr><tr><td>11</td><td>Rajab</td></tr><tr><td>12</td><td>Naiyana</td></tr><tr><td>13</td><td>Kian</td></tr><tr><td>14</td><td>Jenny</td></tr><tr><td>15</td><td>Jakeem</td></tr><tr><td>16</td><td>Helena</td></tr><tr><td>17</td><td>Ismat</td></tr><tr><td>18</td><td>Anila</td></tr><tr><td>19</td><td>Skye</td></tr><tr><td colspan=\"2\">(2 more)</td></tr></tbody></table>"
      ]
     },
     "metadata": {}
    }
   ],
   "metadata": {
    "dotnet_interactive": {
     "language": "csharp"
    }
   }
  },
  {
   "cell_type": "code",
   "execution_count": null,
   "source": [
    "DataFrame df = new DataFrame(nameList ,timelist, scorelist); "
   ],
   "outputs": [],
   "metadata": {
    "dotnet_interactive": {
     "language": "csharp"
    }
   }
  },
  {
   "cell_type": "code",
   "execution_count": null,
   "source": [
    "df"
   ],
   "outputs": [
    {
     "output_type": "display_data",
     "data": {
      "text/html": [
       "<table id=\"table_637637777829188307\"><thead><tr><th><i>index</i></th><th>Strings</th><th>StudyTime</th><th>StudyScore</th></tr></thead><tbody><tr><td><i><div class=\"dni-plaintext\">0</div></i></td><td>Dan</td><td><div class=\"dni-plaintext\">10</div></td><td><div class=\"dni-plaintext\">50</div></td></tr><tr><td><i><div class=\"dni-plaintext\">1</div></i></td><td>Joann</td><td><div class=\"dni-plaintext\">11.5</div></td><td><div class=\"dni-plaintext\">50</div></td></tr><tr><td><i><div class=\"dni-plaintext\">2</div></i></td><td>Pedro</td><td><div class=\"dni-plaintext\">9</div></td><td><div class=\"dni-plaintext\">47</div></td></tr><tr><td><i><div class=\"dni-plaintext\">3</div></i></td><td>Rosie</td><td><div class=\"dni-plaintext\">16</div></td><td><div class=\"dni-plaintext\">97</div></td></tr><tr><td><i><div class=\"dni-plaintext\">4</div></i></td><td>Ethan</td><td><div class=\"dni-plaintext\">9.25</div></td><td><div class=\"dni-plaintext\">49</div></td></tr><tr><td><i><div class=\"dni-plaintext\">5</div></i></td><td>Vicky</td><td><div class=\"dni-plaintext\">1</div></td><td><div class=\"dni-plaintext\">3</div></td></tr><tr><td><i><div class=\"dni-plaintext\">6</div></i></td><td>Frederic</td><td><div class=\"dni-plaintext\">11.5</div></td><td><div class=\"dni-plaintext\">53</div></td></tr><tr><td><i><div class=\"dni-plaintext\">7</div></i></td><td>Jimmie</td><td><div class=\"dni-plaintext\">9</div></td><td><div class=\"dni-plaintext\">42</div></td></tr><tr><td><i><div class=\"dni-plaintext\">8</div></i></td><td>Rhonda</td><td><div class=\"dni-plaintext\">8.5</div></td><td><div class=\"dni-plaintext\">26</div></td></tr><tr><td><i><div class=\"dni-plaintext\">9</div></i></td><td>Giovanni</td><td><div class=\"dni-plaintext\">14.5</div></td><td><div class=\"dni-plaintext\">74</div></td></tr><tr><td><i><div class=\"dni-plaintext\">10</div></i></td><td>Francesca</td><td><div class=\"dni-plaintext\">15.5</div></td><td><div class=\"dni-plaintext\">82</div></td></tr><tr><td><i><div class=\"dni-plaintext\">11</div></i></td><td>Rajab</td><td><div class=\"dni-plaintext\">13.75</div></td><td><div class=\"dni-plaintext\">62</div></td></tr><tr><td><i><div class=\"dni-plaintext\">12</div></i></td><td>Naiyana</td><td><div class=\"dni-plaintext\">9</div></td><td><div class=\"dni-plaintext\">37</div></td></tr><tr><td><i><div class=\"dni-plaintext\">13</div></i></td><td>Kian</td><td><div class=\"dni-plaintext\">8</div></td><td><div class=\"dni-plaintext\">15</div></td></tr><tr><td><i><div class=\"dni-plaintext\">14</div></i></td><td>Jenny</td><td><div class=\"dni-plaintext\">15.5</div></td><td><div class=\"dni-plaintext\">70</div></td></tr><tr><td><i><div class=\"dni-plaintext\">15</div></i></td><td>Jakeem</td><td><div class=\"dni-plaintext\">8</div></td><td><div class=\"dni-plaintext\">27</div></td></tr><tr><td><i><div class=\"dni-plaintext\">16</div></i></td><td>Helena</td><td><div class=\"dni-plaintext\">9</div></td><td><div class=\"dni-plaintext\">36</div></td></tr><tr><td><i><div class=\"dni-plaintext\">17</div></i></td><td>Ismat</td><td><div class=\"dni-plaintext\">6</div></td><td><div class=\"dni-plaintext\">35</div></td></tr><tr><td><i><div class=\"dni-plaintext\">18</div></i></td><td>Anila</td><td><div class=\"dni-plaintext\">10</div></td><td><div class=\"dni-plaintext\">48</div></td></tr><tr><td><i><div class=\"dni-plaintext\">19</div></i></td><td>Skye</td><td><div class=\"dni-plaintext\">12</div></td><td><div class=\"dni-plaintext\">52</div></td></tr><tr><td><i><div class=\"dni-plaintext\">20</div></i></td><td>Daniel</td><td><div class=\"dni-plaintext\">12.5</div></td><td><div class=\"dni-plaintext\">63</div></td></tr><tr><td><i><div class=\"dni-plaintext\">21</div></i></td><td>Aisha</td><td><div class=\"dni-plaintext\">12</div></td><td><div class=\"dni-plaintext\">64</div></td></tr></tbody></table>"
      ]
     },
     "metadata": {}
    }
   ],
   "metadata": {
    "dotnet_interactive": {
     "language": "csharp"
    }
   }
  },
  {
   "cell_type": "code",
   "execution_count": null,
   "source": [
    "df.Info()"
   ],
   "outputs": [
    {
     "output_type": "display_data",
     "data": {
      "text/html": [
       "<table id=\"table_637637777829515712\"><thead><tr><th><i>index</i></th><th>Info</th><th>Strings</th><th>StudyTime</th><th>StudyScore</th></tr></thead><tbody><tr><td><i><div class=\"dni-plaintext\">0</div></i></td><td>DataType</td><td>System.String</td><td>System.Single</td><td>System.Single</td></tr><tr><td><i><div class=\"dni-plaintext\">1</div></i></td><td>Length (excluding null values)</td><td>22</td><td>22</td><td>22</td></tr></tbody></table>"
      ]
     },
     "metadata": {}
    }
   ],
   "metadata": {
    "dotnet_interactive": {
     "language": "csharp"
    }
   }
  },
  {
   "cell_type": "code",
   "execution_count": null,
   "source": [
    "var order = df.OrderBy(\"StudyScore\");"
   ],
   "outputs": [],
   "metadata": {
    "dotnet_interactive": {
     "language": "csharp"
    }
   }
  },
  {
   "cell_type": "code",
   "execution_count": null,
   "source": [
    "order"
   ],
   "outputs": [
    {
     "output_type": "display_data",
     "data": {
      "text/html": [
       "<table id=\"table_637637777830094193\"><thead><tr><th><i>index</i></th><th>Strings</th><th>StudyTime</th><th>StudyScore</th></tr></thead><tbody><tr><td><i><div class=\"dni-plaintext\">0</div></i></td><td>Vicky</td><td><div class=\"dni-plaintext\">1</div></td><td><div class=\"dni-plaintext\">3</div></td></tr><tr><td><i><div class=\"dni-plaintext\">1</div></i></td><td>Kian</td><td><div class=\"dni-plaintext\">8</div></td><td><div class=\"dni-plaintext\">15</div></td></tr><tr><td><i><div class=\"dni-plaintext\">2</div></i></td><td>Rhonda</td><td><div class=\"dni-plaintext\">8.5</div></td><td><div class=\"dni-plaintext\">26</div></td></tr><tr><td><i><div class=\"dni-plaintext\">3</div></i></td><td>Jakeem</td><td><div class=\"dni-plaintext\">8</div></td><td><div class=\"dni-plaintext\">27</div></td></tr><tr><td><i><div class=\"dni-plaintext\">4</div></i></td><td>Ismat</td><td><div class=\"dni-plaintext\">6</div></td><td><div class=\"dni-plaintext\">35</div></td></tr><tr><td><i><div class=\"dni-plaintext\">5</div></i></td><td>Helena</td><td><div class=\"dni-plaintext\">9</div></td><td><div class=\"dni-plaintext\">36</div></td></tr><tr><td><i><div class=\"dni-plaintext\">6</div></i></td><td>Naiyana</td><td><div class=\"dni-plaintext\">9</div></td><td><div class=\"dni-plaintext\">37</div></td></tr><tr><td><i><div class=\"dni-plaintext\">7</div></i></td><td>Jimmie</td><td><div class=\"dni-plaintext\">9</div></td><td><div class=\"dni-plaintext\">42</div></td></tr><tr><td><i><div class=\"dni-plaintext\">8</div></i></td><td>Pedro</td><td><div class=\"dni-plaintext\">9</div></td><td><div class=\"dni-plaintext\">47</div></td></tr><tr><td><i><div class=\"dni-plaintext\">9</div></i></td><td>Anila</td><td><div class=\"dni-plaintext\">10</div></td><td><div class=\"dni-plaintext\">48</div></td></tr><tr><td><i><div class=\"dni-plaintext\">10</div></i></td><td>Ethan</td><td><div class=\"dni-plaintext\">9.25</div></td><td><div class=\"dni-plaintext\">49</div></td></tr><tr><td><i><div class=\"dni-plaintext\">11</div></i></td><td>Joann</td><td><div class=\"dni-plaintext\">11.5</div></td><td><div class=\"dni-plaintext\">50</div></td></tr><tr><td><i><div class=\"dni-plaintext\">12</div></i></td><td>Dan</td><td><div class=\"dni-plaintext\">10</div></td><td><div class=\"dni-plaintext\">50</div></td></tr><tr><td><i><div class=\"dni-plaintext\">13</div></i></td><td>Skye</td><td><div class=\"dni-plaintext\">12</div></td><td><div class=\"dni-plaintext\">52</div></td></tr><tr><td><i><div class=\"dni-plaintext\">14</div></i></td><td>Frederic</td><td><div class=\"dni-plaintext\">11.5</div></td><td><div class=\"dni-plaintext\">53</div></td></tr><tr><td><i><div class=\"dni-plaintext\">15</div></i></td><td>Rajab</td><td><div class=\"dni-plaintext\">13.75</div></td><td><div class=\"dni-plaintext\">62</div></td></tr><tr><td><i><div class=\"dni-plaintext\">16</div></i></td><td>Daniel</td><td><div class=\"dni-plaintext\">12.5</div></td><td><div class=\"dni-plaintext\">63</div></td></tr><tr><td><i><div class=\"dni-plaintext\">17</div></i></td><td>Aisha</td><td><div class=\"dni-plaintext\">12</div></td><td><div class=\"dni-plaintext\">64</div></td></tr><tr><td><i><div class=\"dni-plaintext\">18</div></i></td><td>Jenny</td><td><div class=\"dni-plaintext\">15.5</div></td><td><div class=\"dni-plaintext\">70</div></td></tr><tr><td><i><div class=\"dni-plaintext\">19</div></i></td><td>Giovanni</td><td><div class=\"dni-plaintext\">14.5</div></td><td><div class=\"dni-plaintext\">74</div></td></tr><tr><td><i><div class=\"dni-plaintext\">20</div></i></td><td>Francesca</td><td><div class=\"dni-plaintext\">15.5</div></td><td><div class=\"dni-plaintext\">82</div></td></tr><tr><td><i><div class=\"dni-plaintext\">21</div></i></td><td>Rosie</td><td><div class=\"dni-plaintext\">16</div></td><td><div class=\"dni-plaintext\">97</div></td></tr></tbody></table>"
      ]
     },
     "metadata": {}
    }
   ],
   "metadata": {
    "dotnet_interactive": {
     "language": "csharp"
    }
   }
  },
  {
   "cell_type": "code",
   "execution_count": null,
   "source": [
    "var find_score = df[\"StudyScore\"].ElementwiseEquals(74);"
   ],
   "outputs": [],
   "metadata": {
    "dotnet_interactive": {
     "language": "csharp"
    }
   }
  },
  {
   "cell_type": "code",
   "execution_count": null,
   "source": [
    "find_score"
   ],
   "outputs": [
    {
     "output_type": "display_data",
     "data": {
      "text/html": [
       "<table><thead><tr><th><i>index</i></th><th>value</th></tr></thead><tbody><tr><td>0</td><td><div class=\"dni-plaintext\">False</div></td></tr><tr><td>1</td><td><div class=\"dni-plaintext\">False</div></td></tr><tr><td>2</td><td><div class=\"dni-plaintext\">False</div></td></tr><tr><td>3</td><td><div class=\"dni-plaintext\">False</div></td></tr><tr><td>4</td><td><div class=\"dni-plaintext\">False</div></td></tr><tr><td>5</td><td><div class=\"dni-plaintext\">False</div></td></tr><tr><td>6</td><td><div class=\"dni-plaintext\">False</div></td></tr><tr><td>7</td><td><div class=\"dni-plaintext\">False</div></td></tr><tr><td>8</td><td><div class=\"dni-plaintext\">False</div></td></tr><tr><td>9</td><td><div class=\"dni-plaintext\">True</div></td></tr><tr><td>10</td><td><div class=\"dni-plaintext\">False</div></td></tr><tr><td>11</td><td><div class=\"dni-plaintext\">False</div></td></tr><tr><td>12</td><td><div class=\"dni-plaintext\">False</div></td></tr><tr><td>13</td><td><div class=\"dni-plaintext\">False</div></td></tr><tr><td>14</td><td><div class=\"dni-plaintext\">False</div></td></tr><tr><td>15</td><td><div class=\"dni-plaintext\">False</div></td></tr><tr><td>16</td><td><div class=\"dni-plaintext\">False</div></td></tr><tr><td>17</td><td><div class=\"dni-plaintext\">False</div></td></tr><tr><td>18</td><td><div class=\"dni-plaintext\">False</div></td></tr><tr><td>19</td><td><div class=\"dni-plaintext\">False</div></td></tr><tr><td colspan=\"2\">(2 more)</td></tr></tbody></table>"
      ]
     },
     "metadata": {}
    }
   ],
   "metadata": {
    "dotnet_interactive": {
     "language": "csharp"
    }
   }
  },
  {
   "cell_type": "code",
   "execution_count": null,
   "source": [
    "var score = df.Filter(find_score);"
   ],
   "outputs": [],
   "metadata": {
    "dotnet_interactive": {
     "language": "csharp"
    }
   }
  },
  {
   "cell_type": "code",
   "execution_count": null,
   "source": [
    "score"
   ],
   "outputs": [
    {
     "output_type": "display_data",
     "data": {
      "text/html": [
       "<table id=\"table_637637777830907038\"><thead><tr><th><i>index</i></th><th>Strings</th><th>StudyTime</th><th>StudyScore</th></tr></thead><tbody><tr><td><i><div class=\"dni-plaintext\">0</div></i></td><td>Giovanni</td><td><div class=\"dni-plaintext\">14.5</div></td><td><div class=\"dni-plaintext\">74</div></td></tr></tbody></table>"
      ]
     },
     "metadata": {}
    }
   ],
   "metadata": {
    "dotnet_interactive": {
     "language": "csharp"
    }
   }
  },
  {
   "cell_type": "markdown",
   "source": [
    "## **三.数据图表工具XPlot** ##\n",
    "\n",
    "在Python中，Matplotlib是一个2D绘图库，它以各种硬拷贝格式和跨平台的交互式环境生成出版质量级别的图形。通过Matplotlib，开发者可以仅需要几行代码，便可以生成绘图。一般可绘制折线图、散点图、柱状图、饼图、直方图、子图等等。Matplotlib使用Numpy进行数组运算，并调用一系列其他的Python库来实现硬件交互。\n",
    "\n",
    "而对应.NET Core有XPlot https://fslab.org/XPlot/\n"
   ],
   "metadata": {}
  },
  {
   "cell_type": "code",
   "execution_count": null,
   "source": [
    "#i \"nuget:https://pkgs.dev.azure.com/dnceng/public/_packaging/dotnet-tools/nuget/v3/index.json\"\n",
    "#r \"nuget:xplot.plotly.interactive\""
   ],
   "outputs": [
    {
     "output_type": "display_data",
     "data": {
      "text/html": [
       "<div><div><strong>Restore sources</strong><ul><li><span>https://pkgs.dev.azure.com/dnceng/public/_packaging/dotnet-tools/nuget/v3/index.json</span></li></ul></div><div><strong>Installed Packages</strong><ul><li><span>fsharp.core, 5.0.0</span></li><li><span>giraffe.viewengine, 1.2.0</span></li><li><span>humanizer.core, 2.2.0</span></li><li><span>markdig.signed, 0.21.1</span></li><li><span>microsoft.applicationinsights, 2.17.0</span></li><li><span>microsoft.applicationinsights.aspnetcore, 2.17.0</span></li><li><span>microsoft.applicationinsights.dependencycollector, 2.17.0</span></li><li><span>microsoft.applicationinsights.eventcountercollector, 2.17.0</span></li><li><span>microsoft.applicationinsights.perfcountercollector, 2.17.0</span></li><li><span>microsoft.applicationinsights.windowsserver, 2.17.0</span></li><li><span>microsoft.applicationinsights.windowsserver.telemetrychannel, 2.17.0</span></li><li><span>microsoft.aspnetcore.http.connections.client, 3.1.8</span></li><li><span>microsoft.aspnetcore.signalr.client, 3.1.8</span></li><li><span>microsoft.aspnetcore.signalr.client.core, 3.1.8</span></li><li><span>microsoft.bcl.asyncinterfaces, 5.0.0</span></li><li><span>microsoft.codeanalysis.common, 3.9.0</span></li><li><span>microsoft.codeanalysis.csharp, 3.9.0</span></li><li><span>microsoft.codeanalysis.csharp.workspaces, 3.9.0</span></li><li><span>microsoft.codeanalysis.visualbasic, 3.9.0</span></li><li><span>microsoft.codeanalysis.visualbasic.workspaces, 3.9.0</span></li><li><span>microsoft.codeanalysis.workspaces.common, 3.9.0</span></li><li><span>microsoft.dotnet.interactive, 1.0.0-beta.21309.3</span></li><li><span>microsoft.dotnet.interactive.formatting, 1.0.0-beta.21309.3</span></li><li><span>microsoft.dotnet.interactive.http, 1.0.0-beta.21309.3</span></li><li><span>microsoft.dotnet.interactive.powershell, 1.0.0-beta.21309.3</span></li><li><span>microsoft.extensions.logging.applicationinsights, 2.17.0</span></li><li><span>microsoft.management.infrastructure.runtime.unix, 2.0.0</span></li><li><span>microsoft.powershell.commands.management, 7.1.3</span></li><li><span>microsoft.powershell.commands.utility, 7.1.3</span></li><li><span>microsoft.powershell.consolehost, 7.1.3</span></li><li><span>microsoft.powershell.markdownrender, 7.1.3</span></li><li><span>microsoft.powershell.native, 7.1.0</span></li><li><span>microsoft.powershell.sdk, 7.1.3</span></li><li><span>microsoft.powershell.security, 7.1.3</span></li><li><span>microsoft.win32.registry.accesscontrol, 5.0.0</span></li><li><span>namotion.reflection, 1.0.14</span></li><li><span>newtonsoft.json, 12.0.3</span></li><li><span>njsonschema, 10.2.2</span></li><li><span>nuget.frameworks, 5.0.0</span></li><li><span>runtime.linux-x64.runtime.native.system.io.ports, 5.0.0-rtm.20519.4</span></li><li><span>system.codedom, 5.0.0</span></li><li><span>system.commandline, 2.0.0-beta1.21216.1</span></li><li><span>system.commandline.rendering, 0.3.0-alpha.20427.1</span></li><li><span>system.componentmodel.composition, 5.0.0</span></li><li><span>system.componentmodel.composition.registration, 5.0.0</span></li><li><span>system.composition.attributedmodel, 1.0.31</span></li><li><span>system.composition.convention, 1.0.31</span></li><li><span>system.composition.hosting, 1.0.31</span></li><li><span>system.composition.runtime, 1.0.31</span></li><li><span>system.composition.typedparts, 1.0.31</span></li><li><span>system.configuration.configurationmanager, 5.0.0</span></li><li><span>system.data.odbc, 5.0.0</span></li><li><span>system.data.oledb, 5.0.0</span></li><li><span>system.data.sqlclient, 4.8.2</span></li><li><span>system.diagnostics.eventlog, 5.0.1</span></li><li><span>system.diagnostics.performancecounter, 5.0.0</span></li><li><span>system.directoryservices, 5.0.0</span></li><li><span>system.directoryservices.accountmanagement, 5.0.0</span></li><li><span>system.directoryservices.protocols, 5.0.0</span></li><li><span>system.drawing.common, 5.0.2</span></li><li><span>system.io.packaging, 5.0.0</span></li><li><span>system.io.ports, 5.0.0</span></li><li><span>system.management, 5.0.0</span></li><li><span>system.management.automation, 7.1.3</span></li><li><span>system.net.http.winhttphandler, 5.0.0</span></li><li><span>system.private.servicemodel, 4.7.0</span></li><li><span>system.reactive, 5.0.0</span></li><li><span>system.reflection.context, 5.0.0</span></li><li><span>system.runtime.caching, 5.0.0</span></li><li><span>system.security.cryptography.pkcs, 5.0.1</span></li><li><span>system.security.cryptography.protecteddata, 5.0.0</span></li><li><span>system.servicemodel.duplex, 4.7.0</span></li><li><span>system.servicemodel.http, 4.7.0</span></li><li><span>system.servicemodel.nettcp, 4.7.0</span></li><li><span>system.servicemodel.primitives, 4.7.0</span></li><li><span>system.servicemodel.security, 4.7.0</span></li><li><span>system.servicemodel.syndication, 5.0.0</span></li><li><span>system.serviceprocess.servicecontroller, 5.0.0</span></li><li><span>system.text.encodings.web, 5.0.1</span></li><li><span>system.text.json, 5.0.2</span></li><li><span>system.threading.accesscontrol, 5.0.0</span></li><li><span>xplot.plotly, 4.0.3</span></li><li><span>xplot.plotly.interactive, 4.0.3</span></li></ul></div><div></div></div>"
      ]
     },
     "metadata": {}
    },
    {
     "output_type": "display_data",
     "data": {
      "text/markdown": [
       "Loading extensions from `XPlot.Plotly.Interactive.dll`"
      ]
     },
     "metadata": {}
    },
    {
     "output_type": "display_data",
     "data": {
      "text/markdown": [
       "Configuring PowerShell Kernel for XPlot.Plotly integration."
      ]
     },
     "metadata": {}
    },
    {
     "output_type": "display_data",
     "data": {
      "text/markdown": [
       "Installed support for XPlot.Plotly."
      ]
     },
     "metadata": {}
    }
   ],
   "metadata": {
    "dotnet_interactive": {
     "language": "csharp"
    }
   }
  },
  {
   "cell_type": "code",
   "execution_count": null,
   "source": [
    "using XPlot.Plotly;\n",
    "using System.Linq;\n",
    "using MathNet.Numerics.Distributions;"
   ],
   "outputs": [],
   "metadata": {
    "dotnet_interactive": {
     "language": "csharp"
    }
   }
  },
  {
   "cell_type": "markdown",
   "source": [],
   "metadata": {}
  },
  {
   "cell_type": "code",
   "execution_count": null,
   "source": [
    "var chart = new PlotlyChart();\n",
    "\n",
    "\n",
    "Chart.Bar(data_list).Show();"
   ],
   "outputs": [],
   "metadata": {
    "dotnet_interactive": {
     "language": "csharp"
    }
   }
  },
  {
   "cell_type": "code",
   "execution_count": null,
   "source": [
    "chart"
   ],
   "outputs": [
    {
     "output_type": "display_data",
     "data": {
      "text/html": [
       "<!DOCTYPE html>\n",
       "<div style=\"width: 900px; height: 500px;\" id=\"c56076dd-c026-4ce7-86cd-823deb8adc0d\"></div><script type=\"text/javascript\">\n",
       "\n",
       "var renderPlotly = function() {\n",
       "    var xplotRequire = require.config({context:'xplot-3.0.1',paths:{plotly:'https://cdn.plot.ly/plotly-1.49.2.min'}}) || require;\n",
       "    xplotRequire(['plotly'], function(Plotly) { \n",
       "\n",
       "            var data = null;\n",
       "           var layout = \"\";\n",
       "           Plotly.newPlot('c56076dd-c026-4ce7-86cd-823deb8adc0d', data, layout);\n",
       "        \n",
       "});\n",
       "};\n",
       "// ensure `require` is available globally\r\n",
       "if ((typeof(require) !==  typeof(Function)) || (typeof(require.config) !== typeof(Function))) {\r\n",
       "    let require_script = document.createElement('script');\r\n",
       "    require_script.setAttribute('src', 'https://cdnjs.cloudflare.com/ajax/libs/require.js/2.3.6/require.min.js');\r\n",
       "    require_script.setAttribute('type', 'text/javascript');\r\n",
       "    \r\n",
       "    \r\n",
       "    require_script.onload = function() {\r\n",
       "        renderPlotly();\r\n",
       "    };\r\n",
       "\r\n",
       "    document.getElementsByTagName('head')[0].appendChild(require_script);\r\n",
       "}\r\n",
       "else {\r\n",
       "    renderPlotly();\r\n",
       "}\r\n",
       "\n",
       "</script>\n"
      ]
     },
     "metadata": {}
    }
   ],
   "metadata": {
    "dotnet_interactive": {
     "language": "csharp"
    }
   }
  },
  {
   "cell_type": "code",
   "execution_count": null,
   "source": [
    "display(Chart.Bar(data_list));"
   ],
   "outputs": [
    {
     "output_type": "display_data",
     "data": {
      "text/html": [
       "<!DOCTYPE html>\n",
       "<div style=\"width: 900px; height: 500px;\" id=\"3fcc05be-15ae-486c-b9c5-632ca9fda6e8\"></div><script type=\"text/javascript\">\n",
       "\n",
       "var renderPlotly = function() {\n",
       "    var xplotRequire = require.config({context:'xplot-3.0.1',paths:{plotly:'https://cdn.plot.ly/plotly-1.49.2.min'}}) || require;\n",
       "    xplotRequire(['plotly'], function(Plotly) { \n",
       "\n",
       "            var data = [{\"type\":\"bar\",\"x\":[2,3],\"orientation\":\"h\"}];\n",
       "           var layout = \"\";\n",
       "           Plotly.newPlot('3fcc05be-15ae-486c-b9c5-632ca9fda6e8', data, layout);\n",
       "        \n",
       "});\n",
       "};\n",
       "// ensure `require` is available globally\r\n",
       "if ((typeof(require) !==  typeof(Function)) || (typeof(require.config) !== typeof(Function))) {\r\n",
       "    let require_script = document.createElement('script');\r\n",
       "    require_script.setAttribute('src', 'https://cdnjs.cloudflare.com/ajax/libs/require.js/2.3.6/require.min.js');\r\n",
       "    require_script.setAttribute('type', 'text/javascript');\r\n",
       "    \r\n",
       "    \r\n",
       "    require_script.onload = function() {\r\n",
       "        renderPlotly();\r\n",
       "    };\r\n",
       "\r\n",
       "    document.getElementsByTagName('head')[0].appendChild(require_script);\r\n",
       "}\r\n",
       "else {\r\n",
       "    renderPlotly();\r\n",
       "}\r\n",
       "\n",
       "</script>\n"
      ]
     },
     "metadata": {}
    }
   ],
   "metadata": {
    "dotnet_interactive": {
     "language": "csharp"
    }
   }
  },
  {
   "cell_type": "code",
   "execution_count": null,
   "source": [],
   "outputs": [],
   "metadata": {
    "dotnet_interactive": {
     "language": "csharp"
    }
   }
  }
 ],
 "metadata": {
  "kernelspec": {
   "display_name": ".NET (C#)",
   "language": "C#",
   "name": ".net-csharp"
  },
  "language_info": {
   "file_extension": ".cs",
   "mimetype": "text/x-csharp",
   "name": "C#",
   "pygments_lexer": "csharp",
   "version": "9.0"
  }
 },
 "nbformat": 4,
 "nbformat_minor": 5
}