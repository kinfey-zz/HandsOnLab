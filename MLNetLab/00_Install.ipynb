{
 "cells": [
  {
   "cell_type": "markdown",
   "source": [
    "# **00.NOTE BOOK 环境安装** #\n",
    "\n",
    "## **一.为何选择notebook ？** ##\n",
    "\n",
    "Jupyter notebook（http://jupyter.org/） 是一种 Web 应用，能让用户将说明文本、数学方程、代码和可视化内容全部组合到一个易于共享的文档中。\n",
    "\n",
    "**可选择语言:** 支持超过40种编程语言，包括Python、R、Julia、Scala等。\n",
    "\n",
    "**分享笔记本:** 可以使用电子邮件、Dropbox、GitHub和Jupyter Notebook Viewer与他人共享。\n",
    "\n",
    "**交互式输出:** 代码可以生成丰富的交互式输出，包括HTML、图像、视频、LaTeX等等。\n",
    "\n",
    "**大数据整合:** 通过Python、R、Scala编程语言使用Apache Spark等大数据框架工具。支持使用pandas、scikit-learn、ggplot2、TensorFlow来探索同一份数据。\n"
   ],
   "metadata": {}
  },
  {
   "cell_type": "markdown",
   "source": [
    "## **二.环境安装** ##\n",
    "\n",
    "**1. Python环境安装**\n",
    "       \n",
    "jupyter notebook 基于Python， 机器必须有Python运行环境，建议安装3.8.x的环境\n",
    "\n",
    "**Linux安装**\n",
    "\n",
    "https://docs.microsoft.com/zh-cn/learn/modules/python-install-vscode/3-exercise-install-python3?pivots=linux\n",
    "\n",
    "**macOS安装**\n",
    "\n",
    "https://docs.microsoft.com/zh-cn/learn/modules/python-install-vscode/3-exercise-install-python3?pivots=macos\n",
    "\n",
    "**Windows安装**\n",
    "\n",
    "https://docs.microsoft.com/zh-cn/learn/modules/python-install-vscode/3-exercise-install-python3?pivots=windows\n",
    "\n",
    "**一些补充：**\n",
    "\n",
    "python 需要设置好path ，无论你是Windows还是macOS,Linux都需要做好，否则你没办法使用\n",
    "\n",
    "在macOS/Linux 下 ，我更喜欢用Pyenv(https://github.com/pyenv/pyenv)  来设置Python , 一下是我的Linux 环境下安装zsh环境的配置，如果你用bash可以参考官方文档\n",
    "```zsh\n",
    "git clone https://github.com/pyenv/pyenv.git ~/.pyenv\n",
    " \n",
    "echo 'export PYENV_ROOT=\"$HOME/.pyenv\"' >> ~/.zprofile\n",
    "       \n",
    "echo 'export PATH=\"$PYENV_ROOT/bin:$PATH\"' >> ~/.zprofile\n",
    "       \n",
    "echo 'eval \"$(pyenv init --path)\"' >> ~/.zprofile\n",
    "       \n",
    "exec $SHELL\n",
    "       \n",
    "git clone https://github.com/pyenv/pyenv-virtualenv.git $(pyenv root)/plugins/pyenv-virtualenv\n",
    "       \n",
    "echo 'eval \"$(pyenv virtualenv-init -)\"' >> ~/.zprofile\n",
    "       \n",
    "exec $SHELL\n",
    "       \n",
    "sudo apt-get install -y make build-essential libssl-dev zlib1g-dev libbz2-dev libreadline-dev libsqlite3-dev wget curl llvm libncurses5-dev xz-utils tk-dev libxml2-dev libxmlsec1-dev libffi-dev liblzma-dev\n",
    "       \n",
    "CONFIGURE_OPTS=--enable-shared pyenv install 3.8.8\n",
    "       \n",
    "pyenv virtualenv 3.8.8 pydev          \n",
    "```\n",
    "Windows 下建议使用WSL2 来设置，关于WSL2 的文档(https://docs.microsoft.com/zh-cn/learn/modules/get-started-with-windows-subsystem-for-linux/ 搭配Ubuntu 20.04 来安装)\n",
    "\n",
    "**2. 安装Jupyter Notebook**\n",
    "\n",
    "通过pip3 安装Jupyter 运行环境  \n",
    "\n",
    "```zsh\n",
    "pip3 install jupyter\n",
    "```\n",
    "\n",
    "运行jupyter\n",
    "\n",
    "```zsh\n",
    "jupyter notebook --no-browser\n",
    "```\n",
    "\n",
    "<img src='./image/00/00_002.png'>\n",
    "\n",
    "**关于notebook 的更多使用 https://jupyter-notebook.readthedocs.io/en/stable/** \n",
    "\n",
    "**第一次运行notebook 会要求输入密码，这个时候你需要做的(https://jupyter-notebook.readthedocs.io/en/stable/public_server.html)**\n",
    "\n",
    "**3. 关于.NETCore 版本**\n",
    "\n",
    "建议使用5.0.x 版本 https://dotnet.microsoft.com/download\n"
   ],
   "metadata": {}
  },
  {
   "cell_type": "markdown",
   "source": [],
   "metadata": {}
  },
  {
   "cell_type": "markdown",
   "source": [
    "## **三.关于.NET Interactive** ##\n",
    "\n",
    "官方的话 .NET Interactive takes the power of .NET and embeds it into your interactive experiences. Share code, explore data, write, and learn across your apps in ways you couldn't before. 就是一个更灵活的代码交互方式，专注于数据浏览与整理 **(注意：如果你没有安装好Python和Jupyter环境参参考本文档的第二点完成)**\n",
    "\n",
    "**1. 通过dotnet tools 安装.NET Interactive**\n",
    "\n",
    "```zsh\n",
    "dotnet tool install --global Microsoft.dotnet-interactive\n",
    "```\n",
    "一些提示 dotnet tool 需要配置全局PATH ，否则会影响dotnet-interactive的运行\n",
    "(关于 dotnet tool path 的文档可以参考 https://docs.microsoft.com/en-us/dotnet/core/tools/dotnet-tool-install)\n",
    "\n",
    "**2. 把.NET Interactive 绑定到Jupyter Notebook**\n",
    "\n",
    "```zsh\n",
    "dotnet-interactive jupyter install\n",
    "```\n",
    "\n",
    "**3. 运行检查**\n",
    "\n",
    "```zsh\n",
    "jupyter kernelspec list\n",
    "```\n",
    "\n",
    "<img src='./image/00/00_004.png'>\n"
   ],
   "metadata": {}
  },
  {
   "cell_type": "markdown",
   "source": [
    "## **四.Visual Studio Code 的.NET Interactive插件** ##\n",
    "\n",
    "**1.安装Visual Studio Code (https://code.visualstudio.com/)**\n",
    "\n",
    "**2.安装.NET Interactive 插件**\n",
    "\n",
    "\n",
    "<img src='./image/00/00_001.png'>"
   ],
   "metadata": {}
  },
  {
   "cell_type": "markdown",
   "source": [
    "## **五. 例子** ##"
   ],
   "metadata": {}
  },
  {
   "cell_type": "markdown",
   "source": [
    "**1. 基本CSharp运行**"
   ],
   "metadata": {}
  },
  {
   "cell_type": "code",
   "execution_count": null,
   "source": [
    "Console.WriteLine(\"Hello World , Reactor\")"
   ],
   "outputs": [
    {
     "output_type": "display_data",
     "data": {
      "text/html": [
       "\r\n",
       "<div>\r\n",
       "    <div id='dotnet-interactive-this-cell-9013.Microsoft.DotNet.Interactive.Http.HttpPort' style='display: none'>\r\n",
       "        The below script needs to be able to find the current output cell; this is an easy method to get it.\r\n",
       "    </div>\r\n",
       "    <script type='text/javascript'>\r\n",
       "async function probeAddresses(probingAddresses) {\r\n",
       "    function timeout(ms, promise) {\r\n",
       "        return new Promise(function (resolve, reject) {\r\n",
       "            setTimeout(function () {\r\n",
       "                reject(new Error('timeout'))\r\n",
       "            }, ms)\r\n",
       "            promise.then(resolve, reject)\r\n",
       "        })\r\n",
       "    }\r\n",
       "\r\n",
       "    if (Array.isArray(probingAddresses)) {\r\n",
       "        for (let i = 0; i < probingAddresses.length; i++) {\r\n",
       "\r\n",
       "            let rootUrl = probingAddresses[i];\r\n",
       "\r\n",
       "            if (!rootUrl.endsWith('/')) {\r\n",
       "                rootUrl = `${rootUrl}/`;\r\n",
       "            }\r\n",
       "\r\n",
       "            try {\r\n",
       "                let response = await timeout(1000, fetch(`${rootUrl}discovery`, {\r\n",
       "                    method: 'POST',\r\n",
       "                    cache: 'no-cache',\r\n",
       "                    mode: 'cors',\r\n",
       "                    timeout: 1000,\r\n",
       "                    headers: {\r\n",
       "                        'Content-Type': 'text/plain'\r\n",
       "                    },\r\n",
       "                    body: probingAddresses[i]\r\n",
       "                }));\r\n",
       "\r\n",
       "                if (response.status == 200) {\r\n",
       "                    return rootUrl;\r\n",
       "                }\r\n",
       "            }\r\n",
       "            catch (e) { }\r\n",
       "        }\r\n",
       "    }\r\n",
       "}\r\n",
       "\r\n",
       "function loadDotnetInteractiveApi() {\r\n",
       "    probeAddresses([\"http://172.25.115.125:1024/\", \"http://127.0.0.1:1024/\"])\r\n",
       "        .then((root) => {\r\n",
       "        // use probing to find host url and api resources\r\n",
       "        // load interactive helpers and language services\r\n",
       "        let dotnetInteractiveRequire = require.config({\r\n",
       "        context: '9013.Microsoft.DotNet.Interactive.Http.HttpPort',\r\n",
       "                paths:\r\n",
       "            {\r\n",
       "                'dotnet-interactive': `${root}resources`\r\n",
       "                }\r\n",
       "        }) || require;\r\n",
       "\r\n",
       "            window.dotnetInteractiveRequire = dotnetInteractiveRequire;\r\n",
       "\r\n",
       "            window.configureRequireFromExtension = function(extensionName, extensionCacheBuster) {\r\n",
       "                let paths = {};\r\n",
       "                paths[extensionName] = `${root}extensions/${extensionName}/resources/`;\r\n",
       "                \r\n",
       "                let internalRequire = require.config({\r\n",
       "                    context: extensionCacheBuster,\r\n",
       "                    paths: paths,\r\n",
       "                    urlArgs: `cacheBuster=${extensionCacheBuster}`\r\n",
       "                    }) || require;\r\n",
       "\r\n",
       "                return internalRequire\r\n",
       "            };\r\n",
       "        \r\n",
       "            dotnetInteractiveRequire([\r\n",
       "                    'dotnet-interactive/dotnet-interactive'\r\n",
       "                ],\r\n",
       "                function (dotnet) {\r\n",
       "                    dotnet.init(window);\r\n",
       "                },\r\n",
       "                function (error) {\r\n",
       "                    console.log(error);\r\n",
       "                }\r\n",
       "            );\r\n",
       "        })\r\n",
       "        .catch(error => {console.log(error);});\r\n",
       "    }\r\n",
       "\r\n",
       "// ensure `require` is available globally\r\n",
       "if ((typeof(require) !==  typeof(Function)) || (typeof(require.config) !== typeof(Function))) {\r\n",
       "    let require_script = document.createElement('script');\r\n",
       "    require_script.setAttribute('src', 'https://cdnjs.cloudflare.com/ajax/libs/require.js/2.3.6/require.min.js');\r\n",
       "    require_script.setAttribute('type', 'text/javascript');\r\n",
       "    \r\n",
       "    \r\n",
       "    require_script.onload = function() {\r\n",
       "        loadDotnetInteractiveApi();\r\n",
       "    };\r\n",
       "\r\n",
       "    document.getElementsByTagName('head')[0].appendChild(require_script);\r\n",
       "}\r\n",
       "else {\r\n",
       "    loadDotnetInteractiveApi();\r\n",
       "}\r\n",
       "\r\n",
       "    </script>\r\n",
       "</div>"
      ]
     },
     "metadata": {}
    },
    {
     "output_type": "stream",
     "name": "stdout",
     "text": [
      "Hello World , Reactor\n"
     ]
    }
   ],
   "metadata": {
    "dotnet_interactive": {
     "language": "csharp"
    }
   }
  },
  {
   "cell_type": "code",
   "execution_count": null,
   "source": [
    "using System;\n",
    "using System.Text.Json;\n",
    "using System.Text.Json.Serialization;"
   ],
   "outputs": [],
   "metadata": {
    "dotnet_interactive": {
     "language": "csharp"
    }
   }
  },
  {
   "cell_type": "code",
   "execution_count": null,
   "source": [
    "public class ReactorInfo\n",
    "{\n",
    "    public string Name { get; set; }\n",
    "    public string Title { get; set; }\n",
    "}\n"
   ],
   "outputs": [],
   "metadata": {
    "dotnet_interactive": {
     "language": "csharp"
    }
   }
  },
  {
   "cell_type": "code",
   "execution_count": null,
   "source": [
    "var info = new ReactorInfo{ Name = \"Kinfey\", Title =\"Reactor Guest\" };"
   ],
   "outputs": [],
   "metadata": {
    "dotnet_interactive": {
     "language": "csharp"
    }
   }
  },
  {
   "cell_type": "code",
   "execution_count": null,
   "source": [
    "string infoString = JsonSerializer.Serialize(info);"
   ],
   "outputs": [],
   "metadata": {
    "dotnet_interactive": {
     "language": "csharp"
    }
   }
  },
  {
   "cell_type": "code",
   "execution_count": null,
   "source": [
    "Console.WriteLine(infoString);"
   ],
   "outputs": [
    {
     "output_type": "stream",
     "name": "stdout",
     "text": [
      "{\"Name\":\"Kinfey\",\"Title\":\"Reactor Guest\"}\n"
     ]
    }
   ],
   "metadata": {
    "dotnet_interactive": {
     "language": "csharp"
    }
   }
  },
  {
   "cell_type": "markdown",
   "source": [
    "**2. Nuget引入**\n",
    "\n",
    "Blazor 引入到Notebook\n",
    "(https://github.com/plbonneville/RazorInteractive)"
   ],
   "metadata": {}
  },
  {
   "cell_type": "code",
   "execution_count": null,
   "source": [
    "#r \"nuget: RazorInteractive, 1.0.5\""
   ],
   "outputs": [
    {
     "output_type": "display_data",
     "data": {
      "text/html": [
       "<div><div></div><div><strong>Installed Packages</strong><ul><li><span>humanizer.core, 2.2.0</span></li><li><span>microsoft.aspnetcore.http.connections.client, 3.1.8</span></li><li><span>microsoft.aspnetcore.mvc.razor.extensions, 5.0.0</span></li><li><span>microsoft.aspnetcore.razor.language, 5.0.0</span></li><li><span>microsoft.aspnetcore.signalr.client, 3.1.8</span></li><li><span>microsoft.aspnetcore.signalr.client.core, 3.1.8</span></li><li><span>microsoft.bcl.asyncinterfaces, 5.0.0</span></li><li><span>microsoft.codeanalysis.common, 3.9.0</span></li><li><span>microsoft.codeanalysis.csharp, 3.9.0</span></li><li><span>microsoft.codeanalysis.csharp.workspaces, 3.9.0</span></li><li><span>microsoft.codeanalysis.razor, 5.0.0</span></li><li><span>microsoft.codeanalysis.visualbasic, 3.9.0</span></li><li><span>microsoft.codeanalysis.visualbasic.workspaces, 3.9.0</span></li><li><span>microsoft.codeanalysis.workspaces.common, 3.9.0</span></li><li><span>microsoft.dotnet.interactive, 1.0.0-beta.21255.3</span></li><li><span>microsoft.dotnet.interactive.formatting, 1.0.0-beta.21255.3</span></li><li><span>microsoft.extensions.dependencymodel, 5.0.0</span></li><li><span>RazorInteractive, 1.0.5</span></li><li><span>razorlight, 2.0.0-rc.3</span></li><li><span>system.commandline, 2.0.0-beta1.21216.1</span></li><li><span>system.commandline.rendering, 0.3.0-alpha.20427.1</span></li><li><span>system.composition.attributedmodel, 1.0.31</span></li><li><span>system.composition.convention, 1.0.31</span></li><li><span>system.composition.hosting, 1.0.31</span></li><li><span>system.composition.runtime, 1.0.31</span></li><li><span>system.composition.typedparts, 1.0.31</span></li><li><span>system.reactive, 5.0.0</span></li><li><span>system.runtime.interopservices.windowsruntime, 4.3.0</span></li><li><span>system.text.encodings.web, 5.0.1</span></li><li><span>system.text.json, 5.0.2</span></li></ul></div><div></div></div>"
      ]
     },
     "metadata": {}
    },
    {
     "output_type": "display_data",
     "data": {
      "text/markdown": [
       "Loading extensions from `RazorInteractive.dll`"
      ]
     },
     "metadata": {}
    },
    {
     "output_type": "display_data",
     "data": {
      "text/html": [
       "\n",
       "<details>\n",
       "    <summary>Renders the code block as Razor markup in dotnet-interactive notebooks.</summary>\n",
       "    <p>This extension adds a new kernel that can render Razor markdown.</p>\n",
       "</details>"
      ]
     },
     "metadata": {}
    }
   ],
   "metadata": {
    "dotnet_interactive": {
     "language": "csharp"
    }
   }
  },
  {
   "cell_type": "code",
   "execution_count": null,
   "source": [
    "#!razor\n",
    "\n",
    "@{\n",
    "    var colors = new [] { \"red\", \"green\", \"blue\" };\n",
    "}\n",
    "\n",
    "<ol>\n",
    "@foreach(var color in colors)\n",
    "{\n",
    "    <li style=\"color: @color;\">@color</li>\n",
    "}\n",
    "</ol>"
   ],
   "outputs": [
    {
     "output_type": "display_data",
     "data": {
      "text/html": [
       "<div id=\"razorExtensionb39e600e85f94772ac80dcf8720cabdb\">\n",
       "<ol>\n",
       "    <li style=\"color: red;\">red</li>\n",
       "    <li style=\"color: green;\">green</li>\n",
       "    <li style=\"color: blue;\">blue</li>\n",
       "</ol></div>"
      ]
     },
     "metadata": {}
    }
   ],
   "metadata": {
    "dotnet_interactive": {
     "language": "csharp"
    }
   }
  },
  {
   "cell_type": "code",
   "execution_count": null,
   "source": [
    "var firstname = \"John\";\n",
    "var lastname = \"Doe\";\n",
    "var colors = new [] { \"red\", \"green\", \"blue\" };"
   ],
   "outputs": [],
   "metadata": {
    "dotnet_interactive": {
     "language": "csharp"
    }
   }
  },
  {
   "cell_type": "code",
   "execution_count": null,
   "source": [
    "#!razor\n",
    "\n",
    "<p>Hello <b>@Model.firstname @Model.lastname</b>, what is you favorite a color?</p>\n",
    "\n",
    "<ol>\n",
    "@foreach(var color in Model.colors)\n",
    "{\n",
    "    <li style=\"color: @color;\">@color</li>\n",
    "}\n",
    "</ol>"
   ],
   "outputs": [
    {
     "output_type": "display_data",
     "data": {
      "text/html": [
       "<div id=\"razorExtension7b0396f76a8441f4815a31ec3d653f0c\"><p>Hello <b>John Doe</b>, what is you favorite a color?</p>\n",
       "\n",
       "<ol>\n",
       "    <li style=\"color: red;\">red</li>\n",
       "    <li style=\"color: green;\">green</li>\n",
       "    <li style=\"color: blue;\">blue</li>\n",
       "</ol></div>"
      ]
     },
     "metadata": {}
    }
   ],
   "metadata": {
    "dotnet_interactive": {
     "language": "csharp"
    }
   }
  }
 ],
 "metadata": {
  "kernelspec": {
   "display_name": ".NET (C#)",
   "language": "C#",
   "name": ".net-csharp"
  },
  "language_info": {
   "file_extension": ".cs",
   "mimetype": "text/x-csharp",
   "name": "C#",
   "pygments_lexer": "csharp",
   "version": "9.0"
  }
 },
 "nbformat": 4,
 "nbformat_minor": 5
}