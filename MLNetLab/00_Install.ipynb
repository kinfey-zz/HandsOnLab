{
 "cells": [
  {
   "cell_type": "markdown",
   "source": [
    "# **00.NOTE BOOK 环境安装** #\n",
    "\n",
    "## **一.为何选择notebook ？** ##\n",
    "\n",
    "Jupyter notebook（http://jupyter.org/） 是一种 Web 应用，能让用户将说明文本、数学方程、代码和可视化内容全部组合到一个易于共享的文档中。\n",
    "\n",
    "**可选择语言:** 支持超过40种编程语言，包括Python、R、Julia、Scala等。\n",
    "\n",
    "**分享笔记本:** 可以使用电子邮件、Dropbox、GitHub和Jupyter Notebook Viewer与他人共享。\n",
    "\n",
    "**交互式输出:** 代码可以生成丰富的交互式输出，包括HTML、图像、视频、LaTeX等等。\n",
    "\n",
    "**大数据整合:** 通过Python、R、Scala编程语言使用Apache Spark等大数据框架工具。支持使用pandas、scikit-learn、ggplot2、TensorFlow来探索同一份数据。\n"
   ],
   "metadata": {}
  },
  {
   "cell_type": "markdown",
   "source": [
    "## **二.环境安装** ##\r\n",
    "\r\n",
    "**1. Python环境安装**\r\n",
    "       \r\n",
    "jupyter notebook 基于Python， 机器必须有Python运行环境，建议安装3.8.x的环境\r\n",
    "\r\n",
    "**Linux安装**\r\n",
    "\r\n",
    "https://docs.microsoft.com/zh-cn/learn/modules/python-install-vscode/3-exercise-install-python3?pivots=linux\r\n",
    "\r\n",
    "**macOS安装**\r\n",
    "\r\n",
    "https://docs.microsoft.com/zh-cn/learn/modules/python-install-vscode/3-exercise-install-python3?pivots=macos\r\n",
    "\r\n",
    "**Windows安装**\r\n",
    "\r\n",
    "请参考docs文件夹下的00_Windows_Install_Python.pdf\r\n",
    "\r\n",
    "**一些补充：**\r\n",
    "\r\n",
    "python 需要设置好path ，无论你是Windows还是macOS,Linux都需要做好，否则你没办法使用\r\n",
    "\r\n",
    "在macOS/Linux 下 ，我更喜欢用Pyenv(https://github.com/pyenv/pyenv)  来设置Python , 一下是我的Linux 环境下安装zsh环境的配置，如果你用bash可以参考官方文档\r\n",
    "```zsh\r\n",
    "git clone https://github.com/pyenv/pyenv.git ~/.pyenv\r\n",
    " \r\n",
    "echo 'export PYENV_ROOT=\"$HOME/.pyenv\"' >> ~/.zprofile\r\n",
    "       \r\n",
    "echo 'export PATH=\"$PYENV_ROOT/bin:$PATH\"' >> ~/.zprofile\r\n",
    "       \r\n",
    "echo 'eval \"$(pyenv init --path)\"' >> ~/.zprofile\r\n",
    "       \r\n",
    "exec $SHELL\r\n",
    "       \r\n",
    "git clone https://github.com/pyenv/pyenv-virtualenv.git $(pyenv root)/plugins/pyenv-virtualenv\r\n",
    "       \r\n",
    "echo 'eval \"$(pyenv virtualenv-init -)\"' >> ~/.zprofile\r\n",
    "       \r\n",
    "exec $SHELL\r\n",
    "       \r\n",
    "sudo apt-get install -y make build-essential libssl-dev zlib1g-dev libbz2-dev libreadline-dev libsqlite3-dev wget curl llvm libncurses5-dev xz-utils tk-dev libxml2-dev libxmlsec1-dev libffi-dev liblzma-dev\r\n",
    "       \r\n",
    "CONFIGURE_OPTS=--enable-shared pyenv install 3.8.8\r\n",
    "       \r\n",
    "pyenv virtualenv 3.8.8 pydev          \r\n",
    "```\r\n",
    "Windows 下建议使用WSL2 来设置，关于WSL2 的文档(https://docs.microsoft.com/zh-cn/learn/modules/get-started-with-windows-subsystem-for-linux/ 搭配Ubuntu 20.04 来安装)\r\n",
    "\r\n",
    "更具体的深度学习环境安装可以参考 https://blog.csdn.net/kinfey/article/details/117635067\r\n",
    "\r\n",
    "**2. 安装Jupyter Notebook**\r\n",
    "\r\n",
    "通过pip3 安装Jupyter 运行环境  \r\n",
    "\r\n",
    "```zsh\r\n",
    "pip3 install jupyter\r\n",
    "```\r\n",
    "\r\n",
    "运行jupyter\r\n",
    "\r\n",
    "```zsh\r\n",
    "jupyter notebook --no-browser\r\n",
    "```\r\n",
    "\r\n",
    "<img src='./image/00/00_002.png'>\r\n",
    "\r\n",
    "**关于notebook 的更多使用 https://jupyter-notebook.readthedocs.io/en/stable/** \r\n",
    "\r\n",
    "**第一次运行notebook 会要求输入密码，这个时候你需要做的(https://jupyter-notebook.readthedocs.io/en/stable/public_server.html)**\r\n",
    "\r\n",
    "**3. 关于.NETCore 版本**\r\n",
    "\r\n",
    "建议使用5.0.x 版本 https://dotnet.microsoft.com/download\r\n"
   ],
   "metadata": {}
  },
  {
   "cell_type": "markdown",
   "source": [],
   "metadata": {}
  },
  {
   "cell_type": "markdown",
   "source": [
    "## **三.关于.NET Interactive** ##\n",
    "\n",
    "官方的话 .NET Interactive takes the power of .NET and embeds it into your interactive experiences. Share code, explore data, write, and learn across your apps in ways you couldn't before. 就是一个更灵活的代码交互方式，专注于数据浏览与整理 **(注意：如果你没有安装好Python和Jupyter环境参参考本文档的第二点完成)**\n",
    "\n",
    "**1. 通过dotnet tools 安装.NET Interactive**\n",
    "\n",
    "```zsh\n",
    "dotnet tool install --global Microsoft.dotnet-interactive\n",
    "```\n",
    "一些提示 dotnet tool 需要配置全局PATH ，否则会影响dotnet-interactive的运行\n",
    "(关于 dotnet tool path 的文档可以参考 https://docs.microsoft.com/en-us/dotnet/core/tools/dotnet-tool-install)\n",
    "\n",
    "**2. 把.NET Interactive 绑定到Jupyter Notebook**\n",
    "\n",
    "```zsh\n",
    "dotnet-interactive jupyter install\n",
    "```\n",
    "\n",
    "**3. 运行检查**\n",
    "\n",
    "```zsh\n",
    "jupyter kernelspec list\n",
    "```\n",
    "\n",
    "<img src='./image/00/00_004.png'>\n"
   ],
   "metadata": {}
  },
  {
   "cell_type": "markdown",
   "source": [
    "## **四.Visual Studio Code 的.NET Interactive插件** ##\n",
    "\n",
    "**1.安装Visual Studio Code (https://code.visualstudio.com/)**\n",
    "\n",
    "**2.安装.NET Interactive 插件**\n",
    "\n",
    "\n",
    "<img src='./image/00/00_001.png'>"
   ],
   "metadata": {}
  },
  {
   "cell_type": "markdown",
   "source": [
    "## **五. 例子** ##"
   ],
   "metadata": {}
  },
  {
   "cell_type": "markdown",
   "source": [
    "**1. 基本CSharp运行**"
   ],
   "metadata": {}
  },
  {
   "cell_type": "code",
   "execution_count": null,
   "source": [
    "Console.WriteLine(\"Hello World , Reactor\")"
   ],
   "outputs": [],
   "metadata": {
    "dotnet_interactive": {
     "language": "csharp"
    }
   }
  },
  {
   "cell_type": "code",
   "execution_count": null,
   "source": [
    "using System;\r\n",
    "using System.Text.Json;\r\n",
    "using System.Text.Json.Serialization;"
   ],
   "outputs": [],
   "metadata": {
    "dotnet_interactive": {
     "language": "csharp"
    }
   }
  },
  {
   "cell_type": "code",
   "execution_count": null,
   "source": [
    "public class ReactorInfo\r\n",
    "{\r\n",
    "    public string Name { get; set; }\r\n",
    "    public string Title { get; set; }\r\n",
    "}\r\n"
   ],
   "outputs": [],
   "metadata": {
    "dotnet_interactive": {
     "language": "csharp"
    }
   }
  },
  {
   "cell_type": "code",
   "execution_count": null,
   "source": [
    "var info = new ReactorInfo{ Name = \"Kinfey\", Title =\"Reactor Guest\" };"
   ],
   "outputs": [],
   "metadata": {
    "dotnet_interactive": {
     "language": "csharp"
    }
   }
  },
  {
   "cell_type": "code",
   "execution_count": null,
   "source": [
    "string infoString = JsonSerializer.Serialize(info);"
   ],
   "outputs": [],
   "metadata": {
    "dotnet_interactive": {
     "language": "csharp"
    }
   }
  },
  {
   "cell_type": "code",
   "execution_count": null,
   "source": [
    "Console.WriteLine(infoString);"
   ],
   "outputs": [],
   "metadata": {
    "dotnet_interactive": {
     "language": "csharp"
    }
   }
  },
  {
   "cell_type": "markdown",
   "source": [
    "**2. Nuget引入**\n",
    "\n",
    "Blazor 引入到Notebook\n",
    "(https://github.com/plbonneville/RazorInteractive)"
   ],
   "metadata": {}
  },
  {
   "cell_type": "code",
   "execution_count": null,
   "source": [
    "#r \"nuget: RazorInteractive, 1.0.5\""
   ],
   "outputs": [],
   "metadata": {
    "dotnet_interactive": {
     "language": "csharp"
    }
   }
  },
  {
   "cell_type": "code",
   "execution_count": null,
   "source": [
    "#!razor\r\n",
    "\r\n",
    "@{\r\n",
    "    var colors = new [] { \"red\", \"green\", \"blue\" };\r\n",
    "}\r\n",
    "\r\n",
    "<ol>\r\n",
    "@foreach(var color in colors)\r\n",
    "{\r\n",
    "    <li style=\"color: @color;\">@color</li>\r\n",
    "}\r\n",
    "</ol>"
   ],
   "outputs": [],
   "metadata": {
    "dotnet_interactive": {
     "language": "csharp"
    }
   }
  },
  {
   "cell_type": "code",
   "execution_count": null,
   "source": [
    "var firstname = \"John\";\r\n",
    "var lastname = \"Doe\";\r\n",
    "var colors = new [] { \"red\", \"green\", \"blue\" };"
   ],
   "outputs": [],
   "metadata": {
    "dotnet_interactive": {
     "language": "csharp"
    }
   }
  },
  {
   "cell_type": "code",
   "execution_count": null,
   "source": [
    "#!razor\r\n",
    "\r\n",
    "<p>Hello <b>@Model.firstname @Model.lastname</b>, what is you favorite a color?</p>\r\n",
    "\r\n",
    "<ol>\r\n",
    "@foreach(var color in Model.colors)\r\n",
    "{\r\n",
    "    <li style=\"color: @color;\">@color</li>\r\n",
    "}\r\n",
    "</ol>"
   ],
   "outputs": [],
   "metadata": {
    "dotnet_interactive": {
     "language": "csharp"
    }
   }
  }
 ],
 "metadata": {
  "kernelspec": {
   "display_name": ".NET (C#)",
   "language": "C#",
   "name": ".net-csharp"
  },
  "language_info": {
   "file_extension": ".cs",
   "mimetype": "text/x-csharp",
   "name": "C#",
   "pygments_lexer": "csharp",
   "version": "9.0"
  }
 },
 "nbformat": 4,
 "nbformat_minor": 5
}