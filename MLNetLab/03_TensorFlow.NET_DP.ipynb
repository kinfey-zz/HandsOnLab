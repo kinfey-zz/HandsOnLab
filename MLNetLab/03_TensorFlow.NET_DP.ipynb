{
 "cells": [
  {
   "cell_type": "code",
   "execution_count": null,
   "source": [
    "#r \"nuget: TensorFlow.Net\"\n",
    "#r \"nuget: TensorFlow.Keras\"\n",
    "#r \"nuget: SciSharp.TensorFlow.Redist\"\n",
    "#r \"nuget: NumSharp\""
   ],
   "outputs": [
    {
     "data": {
      "text/html": [
       "<div><div></div><div></div><div><strong>Installed Packages</strong><ul><li><span>NumSharp, 0.30.0</span></li><li><span>SciSharp.TensorFlow.Redist, 2.5.0</span></li><li><span>TensorFlow.Keras, 0.6.0</span></li><li><span>TensorFlow.Net, 0.60.0</span></li></ul></div></div>"
      ]
     },
     "metadata": {},
     "output_type": "display_data"
    }
   ],
   "metadata": {
    "dotnet_interactive": {
     "language": "csharp"
    }
   }
  },
  {
   "cell_type": "markdown",
   "source": [
    "# **深度学习** #"
   ],
   "metadata": {}
  },
  {
   "cell_type": "code",
   "execution_count": null,
   "source": [
    "\n",
    "using System.Linq;\n",
    "using Tensorflow;\n",
    "using Tensorflow.Keras.Optimizers;\n",
    "using Tensorflow.NumPy;\n",
    "using static Tensorflow.Binding;\n",
    "using static Tensorflow.KerasApi;\n"
   ],
   "outputs": [],
   "metadata": {
    "dotnet_interactive": {
     "language": "csharp"
    }
   }
  },
  {
   "cell_type": "code",
   "execution_count": null,
   "source": [
    "int num_classes = 10; \n",
    "int num_features = 784; \n",
    "\n",
    "float learning_rate = 0.001f;\n",
    "int training_steps = 1000;\n",
    "int batch_size = 256;\n",
    "int display_step = 100;\n",
    "\n",
    "int n_hidden_1 = 128; // 1st layer number of neurons.\n",
    "int n_hidden_2 = 256; // 2nd layer number of neurons.\n",
    "\n",
    "IDatasetV2 train_data;\n",
    "NDArray x_test, y_test, x_train, y_train;\n",
    "IVariableV1 h1, h2, wout, b1, b2, bout;\n",
    "float accuracy_test = 0f;"
   ],
   "outputs": [],
   "metadata": {
    "dotnet_interactive": {
     "language": "csharp"
    }
   }
  },
  {
   "cell_type": "code",
   "execution_count": null,
   "source": [
    "tf.enable_eager_execution();"
   ],
   "outputs": [],
   "metadata": {
    "dotnet_interactive": {
     "language": "csharp"
    }
   }
  },
  {
   "cell_type": "code",
   "execution_count": null,
   "source": [
    "((x_train, y_train), (x_test, y_test)) = keras.datasets.mnist.load_data();\n",
    "(x_train, x_test) = (x_train.reshape((-1, num_features)), x_test.reshape((-1, num_features)));\n",
    "\n",
    "(x_train, x_test) = (x_train / 255f, x_test / 255f);\n",
    "\n",
    "train_data = tf.data.Dataset.from_tensor_slices(x_train, y_train);\n",
    "train_data = train_data.repeat()\n",
    "    .shuffle(5000)\n",
    "    .batch(batch_size)\n",
    "    .prefetch(1)\n",
    "    .take(training_steps);"
   ],
   "outputs": [
    {
     "output_type": "stream",
     "name": "stdout",
     "text": [
      "Downloading from https://storage.googleapis.com/tensorflow/tf-keras-datasets/mnist.npz\n",
      "....\n",
      "Downloaded to /tmp/mnist.npz\n"
     ]
    }
   ],
   "metadata": {
    "dotnet_interactive": {
     "language": "csharp"
    }
   }
  },
  {
   "cell_type": "code",
   "execution_count": null,
   "source": [
    "var random_normal = tf.initializers.random_normal_initializer();\n",
    "h1 = tf.Variable(random_normal.Apply(new InitializerArgs((num_features, n_hidden_1))));\n",
    "h2 = tf.Variable(random_normal.Apply(new InitializerArgs((n_hidden_1, n_hidden_2))));\n",
    "wout = tf.Variable(random_normal.Apply(new InitializerArgs((n_hidden_2, num_classes))));\n",
    "b1 = tf.Variable(tf.zeros(n_hidden_1));\n",
    "b2 = tf.Variable(tf.zeros(n_hidden_2));\n",
    "bout = tf.Variable(tf.zeros(num_classes));\n",
    "var trainable_variables = new IVariableV1[] { h1, h2, wout, b1, b2, bout };"
   ],
   "outputs": [],
   "metadata": {
    "dotnet_interactive": {
     "language": "csharp"
    }
   }
  },
  {
   "cell_type": "code",
   "execution_count": null,
   "source": [
    "var optimizer = keras.optimizers.SGD(learning_rate);"
   ],
   "outputs": [],
   "metadata": {
    "dotnet_interactive": {
     "language": "csharp"
    }
   }
  },
  {
   "cell_type": "code",
   "execution_count": null,
   "source": [
    "Tensor neural_net(Tensor x)\n",
    "{\n",
    "    var layer_1 = tf.add(tf.matmul(x, h1.AsTensor()), b1.AsTensor());\n",
    "    layer_1 = tf.nn.sigmoid(layer_1);\n",
    "    var layer_2 = tf.add(tf.matmul(layer_1, h2.AsTensor()), b2.AsTensor());\n",
    "    layer_2 = tf.nn.sigmoid(layer_2);\n",
    "    var out_layer = tf.matmul(layer_2, wout.AsTensor()) + bout.AsTensor();\n",
    "    return tf.nn.softmax(out_layer);\n",
    "}"
   ],
   "outputs": [],
   "metadata": {
    "dotnet_interactive": {
     "language": "csharp"
    }
   }
  },
  {
   "cell_type": "code",
   "execution_count": null,
   "source": [
    "Tensor accuracy(Tensor y_pred, Tensor y_true)\n",
    "{\n",
    "    var correct_prediction = tf.equal(tf.math.argmax(y_pred, 1), tf.cast(y_true, tf.int64));\n",
    "    return tf.reduce_mean(tf.cast(correct_prediction, tf.float32), axis: -1);\n",
    "}"
   ],
   "outputs": [],
   "metadata": {
    "dotnet_interactive": {
     "language": "csharp"
    }
   }
  },
  {
   "cell_type": "code",
   "execution_count": null,
   "source": [
    "Tensor cross_entropy(Tensor y_pred, Tensor y_true)\n",
    "{\n",
    "    y_true = tf.one_hot(y_true, depth: num_classes);\n",
    "    y_pred = tf.clip_by_value(y_pred, 1e-9f, 1.0f);\n",
    "    return tf.reduce_mean(-tf.reduce_sum(y_true * tf.math.log(y_pred)));\n",
    "}"
   ],
   "outputs": [],
   "metadata": {
    "dotnet_interactive": {
     "language": "csharp"
    }
   }
  },
  {
   "cell_type": "code",
   "execution_count": null,
   "source": [
    "void run_optimization(OptimizerV2 optimizer, Tensor x, Tensor y, IVariableV1[] trainable_variables)\n",
    "{\n",
    "    using var g = tf.GradientTape();\n",
    "    var pred = neural_net(x);\n",
    "    var loss = cross_entropy(pred, y);\n",
    "\n",
    "    var gradients = g.gradient(loss, trainable_variables);\n",
    "\n",
    "    optimizer.apply_gradients(zip(gradients, trainable_variables.Select(x => x as ResourceVariable)));\n",
    "}"
   ],
   "outputs": [],
   "metadata": {
    "dotnet_interactive": {
     "language": "csharp"
    }
   }
  },
  {
   "cell_type": "code",
   "execution_count": null,
   "source": [
    "foreach (var (step, (batch_x, batch_y)) in enumerate(train_data, 1))\n",
    "{\n",
    "    run_optimization(optimizer, batch_x, batch_y, trainable_variables);\n",
    "\n",
    "    if (step % display_step == 0)\n",
    "    {\n",
    "        var pred = neural_net(batch_x);\n",
    "        var loss = cross_entropy(pred, batch_y);\n",
    "        var acc = accuracy(pred, batch_y);\n",
    "        print($\"step: {step}, loss: {(float)loss}, accuracy: {(float)acc}\");\n",
    "    }\n",
    "}"
   ],
   "outputs": [
    {
     "output_type": "stream",
     "name": "stdout",
     "text": [
      "step: 100, loss: 564.11035, accuracy: 0.140625 \n",
      "step: 200, loss: 406.42548, accuracy: 0.62109375 \n",
      "step: 300, loss: 228.30698, accuracy: 0.78515625 \n",
      "step: 400, loss: 160.01138, accuracy: 0.7890625 \n",
      "step: 500, loss: 124.43228, accuracy: 0.86328125 \n",
      "step: 600, loss: 125.22223, accuracy: 0.8671875 \n",
      "step: 700, loss: 100.73631, accuracy: 0.90625 \n",
      "step: 800, loss: 106.74374, accuracy: 0.859375 \n",
      "step: 900, loss: 106.164246, accuracy: 0.8828125 \n"
     ]
    }
   ],
   "metadata": {
    "dotnet_interactive": {
     "language": "csharp"
    }
   }
  },
  {
   "cell_type": "code",
   "execution_count": null,
   "source": [
    "var pred = neural_net(x_test);\n",
    "accuracy_test = (float)accuracy(pred, y_test);\n",
    "print($\"Test Accuracy: {accuracy_test}\");"
   ],
   "outputs": [
    {
     "output_type": "stream",
     "name": "stdout",
     "text": [
      "Test Accuracy: 0.8964 \n"
     ]
    }
   ],
   "metadata": {
    "dotnet_interactive": {
     "language": "csharp"
    }
   }
  }
 ],
 "metadata": {
  "orig_nbformat": 4,
  "language_info": {
   "name": "python"
  }
 },
 "nbformat": 4,
 "nbformat_minor": 2
}