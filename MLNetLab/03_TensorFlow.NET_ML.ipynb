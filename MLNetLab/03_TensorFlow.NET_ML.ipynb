{
 "cells": [
  {
   "cell_type": "code",
   "execution_count": null,
   "source": [
    "#r \"nuget: TensorFlow.Net\"\r\n",
    "#r \"nuget: TensorFlow.Keras\"\r\n",
    "#r \"nuget: SciSharp.TensorFlow.Redist\"\r\n",
    "#r \"nuget: NumSharp\""
   ],
   "outputs": [],
   "metadata": {
    "dotnet_interactive": {
     "language": "csharp"
    }
   }
  },
  {
   "cell_type": "markdown",
   "source": [
    "# **线性回归** #"
   ],
   "metadata": {}
  },
  {
   "cell_type": "markdown",
   "source": [
    "### **Tensorflow.NET 和Tensorflow 是一致的** ###"
   ],
   "metadata": {
    "dotnet_interactive": {
     "language": "csharp"
    }
   }
  },
  {
   "cell_type": "code",
   "execution_count": null,
   "source": [
    "using System;\r\n",
    "using Tensorflow.NumPy;\r\n",
    "using static Tensorflow.Binding;"
   ],
   "outputs": [],
   "metadata": {
    "dotnet_interactive": {
     "language": "csharp"
    }
   }
  },
  {
   "cell_type": "code",
   "execution_count": null,
   "source": [
    "tf.compat.v1.disable_eager_execution();"
   ],
   "outputs": [],
   "metadata": {
    "dotnet_interactive": {
     "language": "csharp"
    }
   }
  },
  {
   "cell_type": "code",
   "execution_count": null,
   "source": [
    "var X = tf.placeholder(tf.float32);\r\n",
    "var Y = tf.placeholder(tf.float32);\r\n",
    "\r\n",
    "var W = tf.Variable(-0.06f, name: \"weight\");\r\n",
    "var b = tf.Variable(-0.73f, name: \"bias\");"
   ],
   "outputs": [],
   "metadata": {
    "dotnet_interactive": {
     "language": "csharp"
    }
   }
  },
  {
   "cell_type": "code",
   "execution_count": null,
   "source": [
    "float learning_rate = 0.01f;\r\n",
    "int display_step = 50;"
   ],
   "outputs": [],
   "metadata": {
    "dotnet_interactive": {
     "language": "csharp"
    }
   }
  },
  {
   "cell_type": "code",
   "execution_count": null,
   "source": [
    "var train_X = np.array(3.3f, 4.4f, 5.5f, 6.71f, 6.93f, 4.168f, 9.779f, 6.182f, 7.59f, 2.167f,\r\n",
    "    7.042f, 10.791f, 5.313f, 7.997f, 5.654f, 9.27f, 3.1f);\r\n",
    "var train_Y = np.array(1.7f, 2.76f, 2.09f, 3.19f, 1.694f, 1.573f, 3.366f, 2.596f, 2.53f, 1.221f,\r\n",
    "    2.827f, 3.465f, 1.65f, 2.904f, 2.42f, 2.94f, 1.3f);\r\n",
    "var n_samples = (int)train_X.shape[0];\r\n",
    "\r\n",
    "int display_step = 50;\r\n",
    "\r\n",
    "float learning_rate = 0.01f;\r\n",
    "\r\n",
    "int training_epochs = 1000;"
   ],
   "outputs": [],
   "metadata": {
    "dotnet_interactive": {
     "language": "csharp"
    }
   }
  },
  {
   "cell_type": "code",
   "execution_count": null,
   "source": [
    "var pred = tf.add(tf.multiply(X, W), b);\r\n",
    "var cost = tf.reduce_sum(tf.pow(pred - Y, 2.0f)) / (2.0f * n_samples);\r\n",
    "var optimizer = tf.train.GradientDescentOptimizer(learning_rate).minimize(cost);\r\n",
    "var init = tf.global_variables_initializer();"
   ],
   "outputs": [],
   "metadata": {
    "dotnet_interactive": {
     "language": "csharp"
    }
   }
  },
  {
   "cell_type": "code",
   "execution_count": null,
   "source": [
    "\r\n",
    "var pred = tf.add(tf.multiply(X, W), b);\r\n",
    "\r\n",
    "var cost = tf.reduce_sum(tf.pow(pred - Y, 2.0f)) / (2.0f * n_samples);\r\n",
    "\r\n",
    " var optimizer = tf.train.GradientDescentOptimizer(learning_rate).minimize(cost);\r\n",
    "\r\n",
    "var init = tf.global_variables_initializer();"
   ],
   "outputs": [],
   "metadata": {
    "dotnet_interactive": {
     "language": "csharp"
    }
   }
  },
  {
   "cell_type": "code",
   "execution_count": null,
   "source": [
    "var sess = tf.Session();\r\n",
    "// Run the initializer\r\n",
    "sess.run(init);"
   ],
   "outputs": [],
   "metadata": {
    "dotnet_interactive": {
     "language": "csharp"
    }
   }
  },
  {
   "cell_type": "code",
   "execution_count": null,
   "source": [
    "for (int epoch = 0; epoch < training_epochs; epoch++)\r\n",
    "{\r\n",
    "    foreach (var (x, y) in zip<float>(train_X, train_Y))\r\n",
    "        sess.run(optimizer, (X, x), (Y, y));\r\n",
    "\r\n",
    "                // Display logs per epoch step\r\n",
    "    if ((epoch + 1) % display_step == 0)\r\n",
    "    {\r\n",
    "        var c = sess.run(cost, (X, train_X), (Y, train_Y));\r\n",
    "        Console.WriteLine($\"Epoch: {epoch + 1} cost={c} \" + $\"W={sess.run(W)} b={sess.run(b)}\");\r\n",
    "    }\r\n",
    "}"
   ],
   "outputs": [],
   "metadata": {
    "dotnet_interactive": {
     "language": "csharp"
    }
   }
  },
  {
   "cell_type": "code",
   "execution_count": null,
   "source": [
    "var training_cost = sess.run(cost, (X, train_X), (Y, train_Y));\r\n",
    "Console.WriteLine($\"Training cost={training_cost} W={sess.run(W)} b={sess.run(b)}\");"
   ],
   "outputs": [],
   "metadata": {
    "dotnet_interactive": {
     "language": "csharp"
    }
   }
  },
  {
   "cell_type": "code",
   "execution_count": null,
   "source": [
    "var test_X = np.array(6.83f, 4.668f, 8.9f, 7.91f, 5.7f, 8.7f, 3.1f, 2.1f);\r\n",
    "var test_Y = np.array(1.84f, 2.273f, 3.2f, 2.831f, 2.92f, 3.24f, 1.35f, 1.03f);\r\n",
    "Console.WriteLine(\"Testing... (Mean square loss Comparison)\");\r\n",
    "var testing_cost = sess.run(tf.reduce_sum(tf.pow(pred - Y, 2.0f)) / (2.0f * test_X.shape[0]),(X, test_X), (Y, test_Y));\r\n",
    "Console.WriteLine($\"Testing cost={testing_cost}\");\r\n",
    "var diff = Math.Abs((float)training_cost - (float)testing_cost);\r\n",
    "Console.WriteLine($\"Absolute mean square loss difference: {diff}\");"
   ],
   "outputs": [],
   "metadata": {
    "dotnet_interactive": {
     "language": "csharp"
    }
   }
  },
  {
   "cell_type": "code",
   "execution_count": null,
   "source": [
    "using Tensorflow.NumPy;\r\n",
    "using static Tensorflow.Binding;\r\n",
    "using static Tensorflow.KerasApi;"
   ],
   "outputs": [],
   "metadata": {
    "dotnet_interactive": {
     "language": "csharp"
    }
   }
  },
  {
   "cell_type": "code",
   "execution_count": null,
   "source": [
    "train_X = np.array(3.3f, 4.4f, 5.5f, 6.71f, 6.93f, 4.168f, 9.779f, 6.182f, \r\n",
    "    7.59f, 2.167f, 7.042f, 10.791f, 5.313f, 7.997f, 5.654f, 9.27f, 3.1f);\r\n",
    "\r\n",
    "train_Y = np.array(1.7f, 2.76f, 2.09f, 3.19f, 1.694f, 1.573f, 3.366f, \r\n",
    "    2.596f, 2.53f, 1.221f, 2.827f, 3.465f, 1.65f, 2.904f, 2.42f, 2.94f, 1.3f);"
   ],
   "outputs": [],
   "metadata": {
    "dotnet_interactive": {
     "language": "csharp"
    }
   }
  },
  {
   "cell_type": "code",
   "execution_count": null,
   "source": [
    "tf.enable_eager_execution();"
   ],
   "outputs": [],
   "metadata": {
    "dotnet_interactive": {
     "language": "csharp"
    }
   }
  },
  {
   "cell_type": "code",
   "execution_count": null,
   "source": [
    "var layers = keras.layers;\r\n",
    "var inputs = keras.Input(shape: 1);\r\n",
    "var outputs = layers.Dense(1).Apply(inputs);\r\n",
    "var model = keras.Model(inputs, outputs);"
   ],
   "outputs": [],
   "metadata": {
    "dotnet_interactive": {
     "language": "csharp"
    }
   }
  },
  {
   "cell_type": "code",
   "execution_count": null,
   "source": [
    "model.summary();"
   ],
   "outputs": [],
   "metadata": {
    "dotnet_interactive": {
     "language": "csharp"
    }
   }
  },
  {
   "cell_type": "code",
   "execution_count": null,
   "source": [
    " model.compile(loss: keras.losses.MeanSquaredError(),\r\n",
    "    optimizer: keras.optimizers.SGD(0.005f),\r\n",
    "     metrics: new[] { \"acc\" });"
   ],
   "outputs": [],
   "metadata": {
    "dotnet_interactive": {
     "language": "csharp"
    }
   }
  },
  {
   "cell_type": "code",
   "execution_count": null,
   "source": [
    " model.fit(train_X, train_Y, epochs: 100);"
   ],
   "outputs": [],
   "metadata": {
    "dotnet_interactive": {
     "language": "csharp"
    }
   }
  }
 ],
 "metadata": {
  "kernelspec": {
   "display_name": ".NET (C#)",
   "language": "C#",
   "name": ".net-csharp"
  },
  "language_info": {
   "file_extension": ".cs",
   "mimetype": "text/x-csharp",
   "name": "C#",
   "pygments_lexer": "csharp",
   "version": "9.0"
  }
 },
 "nbformat": 4,
 "nbformat_minor": 2
}