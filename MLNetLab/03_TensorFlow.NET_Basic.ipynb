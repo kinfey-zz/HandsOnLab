{
 "cells": [
  {
   "cell_type": "markdown",
   "source": [
    "# **TensorFlow.NET** #\n",
    "\n",
    "<img src=\"./image/03/03_001.png\">\n",
    "\n",
    "**TensorFlow 是一个端到端开源机器学习平台。它拥有一个全面而灵活的生态系统，其中包含各种工具、库和社区资源，可助力研究人员推动先进机器学习技术的发展，并使开发者能够轻松地构建和部署由机器学习提供支持的应用。**\n",
    "\n",
    "\n",
    "<img src=\"./image/03/03_002.png\">\n",
    "\n"
   ],
   "metadata": {
    "dotnet_interactive": {
     "language": "csharp"
    }
   }
  },
  {
   "cell_type": "markdown",
   "source": [
    "## **感谢社区， .NET Core 除了原生的ML.NET ,也有社区的机器学习框架 TensorFlow** ##\n",
    "\n",
    "\n",
    "<img src=\"./image/03/03_003.png\">\n",
    "\n",
    "https://github.com/SciSharp \n",
    "\n",
    "这里面有和TensorFlow同步的TensorFlow.NET ，让.NET 程序员无缝进入深度学习领域\n",
    "\n",
    "\n",
    "<img src=\"./image/03/03_004.png\">\n",
    "\n",
    "https://github.com/SciSharp/TensorFlow.NET\n",
    "\n",
    "**TensorFlow.NET (TF.NET) 为 TensorFlow 提供了 .NET Standard 绑定。 它旨在用 C# 实现完整的 Tensorflow API，允许 .NET 开发人员使用跨平台的 .NET Standard 框架开发、训练和部署机器学习模型。 TensorFlow.NET 内置了 Keras 高级接口，并作为独立包 TensorFlow.Keras 发布。**"
   ],
   "metadata": {}
  },
  {
   "cell_type": "code",
   "execution_count": null,
   "source": [
    "#r \"nuget: TensorFlow.Net\"\n",
    "#r \"nuget: TensorFlow.Keras\"\n",
    "#r \"nuget: SciSharp.TensorFlow.Redist\"\n",
    "#r \"nuget: NumSharp\""
   ],
   "outputs": [],
   "metadata": {
    "dotnet_interactive": {
     "language": "csharp"
    }
   }
  },
  {
   "cell_type": "code",
   "execution_count": null,
   "source": [
    "using Tensorflow;\n",
    "using static Tensorflow.Binding;"
   ],
   "outputs": [],
   "metadata": {
    "dotnet_interactive": {
     "language": "csharp"
    }
   }
  },
  {
   "cell_type": "code",
   "execution_count": null,
   "source": [
    "tf.enable_eager_execution();"
   ],
   "outputs": [],
   "metadata": {
    "dotnet_interactive": {
     "language": "csharp"
    }
   }
  },
  {
   "cell_type": "code",
   "execution_count": null,
   "source": [
    "var str = \"Hello, TensorFlow.NET!\";\n",
    "var hello = tf.constant(str);"
   ],
   "outputs": [],
   "metadata": {
    "dotnet_interactive": {
     "language": "csharp"
    }
   }
  },
  {
   "cell_type": "code",
   "execution_count": null,
   "source": [
    "print(hello);"
   ],
   "outputs": [],
   "metadata": {
    "dotnet_interactive": {
     "language": "csharp"
    }
   }
  },
  {
   "cell_type": "code",
   "execution_count": null,
   "source": [
    "var tensor = hello.numpy();"
   ],
   "outputs": [],
   "metadata": {
    "dotnet_interactive": {
     "language": "csharp"
    }
   }
  },
  {
   "cell_type": "code",
   "execution_count": null,
   "source": [
    "tensor.ToString() "
   ],
   "outputs": [],
   "metadata": {
    "dotnet_interactive": {
     "language": "csharp"
    }
   }
  }
 ],
 "metadata": {
  "orig_nbformat": 4,
  "language_info": {
   "file_extension": ".cs",
   "mimetype": "text/x-csharp",
   "name": "C#",
   "pygments_lexer": "csharp",
   "version": "9.0"
  },
  "kernelspec": {
   "display_name": ".NET (C#)",
   "language": "C#",
   "name": ".net-csharp"
  }
 },
 "nbformat": 4,
 "nbformat_minor": 2
}